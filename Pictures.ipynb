{
  "nbformat": 4,
  "nbformat_minor": 0,
  "metadata": {
    "colab": {
      "provenance": []
    },
    "kernelspec": {
      "name": "python3",
      "display_name": "Python 3"
    },
    "language_info": {
      "name": "python"
    }
  },
  "cells": [
    {
      "cell_type": "code",
      "execution_count": 1,
      "metadata": {
        "id": "IzU1J8C7-mL_"
      },
      "outputs": [],
      "source": [
        "import re\n",
        "import requests\n",
        "from bs4 import BeautifulSoup"
      ]
    },
    {
      "cell_type": "code",
      "source": [
        "import pandas as pd\n",
        "df = pd.DataFrame({'Автор':[],'Название картины':[], 'Ссылка на картину':[],'Описание':[],'Год':[], 'Размер':[],\n",
        "                   'Материал':[], 'Техника':[], 'Жанр':[], 'Стиль':[], 'Галерея':[]})"
      ],
      "metadata": {
        "id": "L-jw9nZ8F6vy"
      },
      "execution_count": 20,
      "outputs": []
    },
    {
      "cell_type": "code",
      "source": [
        "session = requests.Session()"
      ],
      "metadata": {
        "id": "IpVHSXpi-uCJ"
      },
      "execution_count": 3,
      "outputs": []
    },
    {
      "cell_type": "code",
      "source": [
        "url = 'https://opisanie-kartin.ru/'\n",
        "page = session.get(url)\n",
        "soup = BeautifulSoup(page.text, \"html.parser\")"
      ],
      "metadata": {
        "id": "MpwmqsWt-5by"
      },
      "execution_count": 21,
      "outputs": []
    },
    {
      "cell_type": "code",
      "source": [
        "artists_menu_items = soup.find_all('ul', class_=\"sub-menu\")\n",
        "artists_menu_items[:2]"
      ],
      "metadata": {
        "colab": {
          "base_uri": "https://localhost:8080/"
        },
        "id": "uz_W-QhOVbud",
        "outputId": "72f182b7-20dd-4d48-f919-558177fe9688"
      },
      "execution_count": 23,
      "outputs": [
        {
          "output_type": "execute_result",
          "data": {
            "text/plain": [
              "[<ul class=\"sub-menu\">\n",
              " <li class=\"menu-item menu-item-type-taxonomy menu-item-object-category first-menu-item menu-item-48210\" id=\"menu-item-48210\"><a href=\"https://opisanie-kartin.ru/category/ajvazovskij-ivan/\">Айвазовский Иван</a></li>\n",
              " <li class=\"menu-item menu-item-type-taxonomy menu-item-object-category menu-item-48211\" id=\"menu-item-48211\"><a href=\"https://opisanie-kartin.ru/category/alekseev-fedor/\">Алексеев Федор</a></li>\n",
              " <li class=\"menu-item menu-item-type-taxonomy menu-item-object-category menu-item-48212\" id=\"menu-item-48212\"><a href=\"https://opisanie-kartin.ru/category/altdorfer-albreht/\">Альтдорфер Альбрехт</a></li>\n",
              " <li class=\"menu-item menu-item-type-taxonomy menu-item-object-category menu-item-48213\" id=\"menu-item-48213\"><a href=\"https://opisanie-kartin.ru/category/argunov-ivan/\">Аргунов Иван</a></li>\n",
              " <li class=\"menu-item menu-item-type-taxonomy menu-item-object-category menu-item-48214\" id=\"menu-item-48214\"><a href=\"https://opisanie-kartin.ru/category/arhipov-abram/\">Архипов Абрам</a></li>\n",
              " <li class=\"menu-item menu-item-type-taxonomy menu-item-object-category last-menu-item menu-item-48215\" id=\"menu-item-48215\"><a href=\"https://opisanie-kartin.ru/category/archimboldo-dzhuzeppe/\">Арчимбольдо Джузеппе</a></li>\n",
              " </ul>, <ul class=\"sub-menu\">\n",
              " <li class=\"menu-item menu-item-type-taxonomy menu-item-object-category first-menu-item menu-item-48239\" id=\"menu-item-48239\"><a href=\"https://opisanie-kartin.ru/category/bakst-leon/\">Бакст Леон</a></li>\n",
              " <li class=\"menu-item menu-item-type-taxonomy menu-item-object-category menu-item-48240\" id=\"menu-item-48240\"><a href=\"https://opisanie-kartin.ru/category/baskiya-zhan-mishel/\">Баския Жан Мишель</a></li>\n",
              " <li class=\"menu-item menu-item-type-taxonomy menu-item-object-category menu-item-48241\" id=\"menu-item-48241\"><a href=\"https://opisanie-kartin.ru/category/benua-aleksandr/\">Бенуа Александр</a></li>\n",
              " <li class=\"menu-item menu-item-type-taxonomy menu-item-object-category menu-item-48242\" id=\"menu-item-48242\"><a href=\"https://opisanie-kartin.ru/category/bilibin-ivan/\">Билибин Иван</a></li>\n",
              " <li class=\"menu-item menu-item-type-taxonomy menu-item-object-category menu-item-48243\" id=\"menu-item-48243\"><a href=\"https://opisanie-kartin.ru/category/bleik-uilyam/\">Блейк Уильям</a></li>\n",
              " <li class=\"menu-item menu-item-type-taxonomy menu-item-object-category menu-item-48244\" id=\"menu-item-48244\"><a href=\"https://opisanie-kartin.ru/category/bogdanov-belskij-nikolaj/\">Богданов-Бельский Николай</a></li>\n",
              " <li class=\"menu-item menu-item-type-taxonomy menu-item-object-category menu-item-48245\" id=\"menu-item-48245\"><a href=\"https://opisanie-kartin.ru/category/borisov-musatov-viktor/\">Борисов-Мусатов Виктор</a></li>\n",
              " <li class=\"menu-item menu-item-type-taxonomy menu-item-object-category menu-item-48246\" id=\"menu-item-48246\"><a href=\"https://opisanie-kartin.ru/category/borovikovskij-vladimir/\">Боровиковский Владимир</a></li>\n",
              " <li class=\"menu-item menu-item-type-taxonomy menu-item-object-category menu-item-48247\" id=\"menu-item-48247\"><a href=\"https://opisanie-kartin.ru/category/bosh-ieronim/\">Босх Иероним</a></li>\n",
              " <li class=\"menu-item menu-item-type-taxonomy menu-item-object-category menu-item-48248\" id=\"menu-item-48248\"><a href=\"https://opisanie-kartin.ru/category/sandro-bottichelli/\">Боттичелли Сандро</a></li>\n",
              " <li class=\"menu-item menu-item-type-taxonomy menu-item-object-category menu-item-48249\" id=\"menu-item-48249\"><a href=\"https://opisanie-kartin.ru/category/brak-zhorzh/\">Брак Жорж</a></li>\n",
              " <li class=\"menu-item menu-item-type-taxonomy menu-item-object-category menu-item-48250\" id=\"menu-item-48250\"><a href=\"https://opisanie-kartin.ru/category/breigel-piter/\">Брейгель Питер старший</a></li>\n",
              " <li class=\"menu-item menu-item-type-taxonomy menu-item-object-category menu-item-48251\" id=\"menu-item-48251\"><a href=\"https://opisanie-kartin.ru/category/brodskij-isaak/\">Бродский Исаак</a></li>\n",
              " <li class=\"menu-item menu-item-type-taxonomy menu-item-object-category menu-item-48252\" id=\"menu-item-48252\"><a href=\"https://opisanie-kartin.ru/category/bryullov-karl/\">Брюллов Карл</a></li>\n",
              " <li class=\"menu-item menu-item-type-taxonomy menu-item-object-category menu-item-48253\" id=\"menu-item-48253\"><a href=\"https://opisanie-kartin.ru/category/bugro-vilyam/\">Бугро Вильям</a></li>\n",
              " <li class=\"menu-item menu-item-type-taxonomy menu-item-object-category menu-item-48254\" id=\"menu-item-48254\"><a href=\"https://opisanie-kartin.ru/category/buonarroti-mikelandzhelo/\">Буонарроти Микеланджело</a></li>\n",
              " <li class=\"menu-item menu-item-type-taxonomy menu-item-object-category menu-item-48255\" id=\"menu-item-48255\"><a href=\"https://opisanie-kartin.ru/category/burlyuk-david/\">Бурлюк Давид</a></li>\n",
              " <li class=\"menu-item menu-item-type-taxonomy menu-item-object-category last-menu-item menu-item-48256\" id=\"menu-item-48256\"><a href=\"https://opisanie-kartin.ru/category/bushe-fransua/\">Буше Франсуа</a></li>\n",
              " </ul>]"
            ]
          },
          "metadata": {},
          "execution_count": 23
        }
      ]
    },
    {
      "cell_type": "code",
      "source": [
        "dict_names = {}"
      ],
      "metadata": {
        "id": "UtfaZfGyXRvq"
      },
      "execution_count": 24,
      "outputs": []
    },
    {
      "cell_type": "code",
      "source": [
        "for artist_item in artists_menu_items:\n",
        "    letter_artists = artist_item.find_all('a')\n",
        "    for link in letter_artists:\n",
        "        artist = link['href']\n",
        "        author_en = re.findall(r'(?<=https://opisanie-kartin.ru/category/).*?(?=/)', artist)\n",
        "        author_en = re.sub(r'\\\"', '', str(author_en))\n",
        "        author_en = re.sub(r'\\[', '', str(author_en))\n",
        "        author_en = re.sub(r'\\]', '', str(author_en))\n",
        "        author_en = author_en.strip('\\'')\n",
        "        print(author_en)\n",
        "        author_ru = str(link.text)\n",
        "        dict_names[author_en] = author_ru"
      ],
      "metadata": {
        "id": "91LRT45xVhw1"
      },
      "execution_count": null,
      "outputs": []
    },
    {
      "cell_type": "code",
      "source": [
        "dict_names['ajvazovskij-ivan']"
      ],
      "metadata": {
        "colab": {
          "base_uri": "https://localhost:8080/",
          "height": 35
        },
        "id": "ibWpHMveX-Jc",
        "outputId": "9a863bb7-3a07-40cd-d5d5-8e7e60639a4c"
      },
      "execution_count": 26,
      "outputs": [
        {
          "output_type": "execute_result",
          "data": {
            "text/plain": [
              "'Айвазовский Иван'"
            ],
            "application/vnd.google.colaboratory.intrinsic+json": {
              "type": "string"
            }
          },
          "metadata": {},
          "execution_count": 26
        }
      ]
    },
    {
      "cell_type": "code",
      "source": [
        "Artist_Links = []"
      ],
      "metadata": {
        "id": "ZgQqmdJ5EuB1"
      },
      "execution_count": 27,
      "outputs": []
    },
    {
      "cell_type": "code",
      "source": [
        "for Link in soup.body.findAll('a'):\n",
        "  if re.match('https://opisanie-kartin.ru/category/', Link['href']) != None:\n",
        "    Artist_Links.append(Link['href'])"
      ],
      "metadata": {
        "id": "CF24o1cQ_h46"
      },
      "execution_count": 28,
      "outputs": []
    },
    {
      "cell_type": "code",
      "source": [
        " Artist_Links[:10]"
      ],
      "metadata": {
        "colab": {
          "base_uri": "https://localhost:8080/"
        },
        "id": "KUghxoaDLTAK",
        "outputId": "149d0d51-b88b-490a-c8ea-bcea9ea1786f"
      },
      "execution_count": 29,
      "outputs": [
        {
          "output_type": "execute_result",
          "data": {
            "text/plain": [
              "['https://opisanie-kartin.ru/category/ajvazovskij-ivan/',\n",
              " 'https://opisanie-kartin.ru/category/alekseev-fedor/',\n",
              " 'https://opisanie-kartin.ru/category/altdorfer-albreht/',\n",
              " 'https://opisanie-kartin.ru/category/argunov-ivan/',\n",
              " 'https://opisanie-kartin.ru/category/arhipov-abram/',\n",
              " 'https://opisanie-kartin.ru/category/archimboldo-dzhuzeppe/',\n",
              " 'https://opisanie-kartin.ru/category/bakst-leon/',\n",
              " 'https://opisanie-kartin.ru/category/baskiya-zhan-mishel/',\n",
              " 'https://opisanie-kartin.ru/category/benua-aleksandr/',\n",
              " 'https://opisanie-kartin.ru/category/bilibin-ivan/']"
            ]
          },
          "metadata": {},
          "execution_count": 29
        }
      ]
    },
    {
      "cell_type": "code",
      "source": [
        "for Link in Artist_Links:\n",
        "  url = Link\n",
        "  page = session.get(url)\n",
        "  soup = BeautifulSoup(page.text, \"html.parser\")\n",
        "  Art_Links = []\n",
        "  for Link in soup.body.findAll('a'):\n",
        "    if re.match(re.sub('/category', '', url), Link['href']) != None:\n",
        "      Art_Links.append(Link['href'])\n",
        "\n",
        "  for Link in set(Art_Links):\n",
        "      try:\n",
        "        url = Link\n",
        "        page = session.get(url)\n",
        "        soup = BeautifulSoup(page.text, \"html.parser\")\n",
        "\n",
        "        INIT = soup.findAll('div', class_='content-headline')[0].text\n",
        "        art = re.findall(r'(?<=«).*?(?=»)', INIT)[0]\n",
        "\n",
        "        author_toupd = re.findall(r'(?<=https://opisanie-kartin.ru/).*?(?=/)', Link)[0]\n",
        "        author = dict_names[author_toupd]\n",
        "        \n",
        "        TEXT = soup.findAll('div', class_='entry-content')[0].text\n",
        "        try:\n",
        "            description = re.findall(r'[^A-Za-z]*(?=Год написания картины)', TEXT, re.DOTALL)[0]\n",
        "        except:\n",
        "            description = ''\n",
        "        try:\n",
        "            year = re.findall(r'(?<=Год написания картины:).*?(?=\\n)', TEXT, re.DOTALL)[0]\n",
        "        except:\n",
        "            year = ''\n",
        "        try:\n",
        "            try:\n",
        "                size = re.findall(r'(?<=Размеры картины:).*?(?=\\n)', TEXT, re.DOTALL)[0]\n",
        "            except:\n",
        "                size = re.findall(r'(?<=Размеры:).*?(?=\\n)', TEXT, re.DOTALL)[0]\n",
        "        except:\n",
        "            size = ''\n",
        "        try:\n",
        "            material = re.findall(r'(?<=Материал:).*?(?=\\n)', TEXT, re.DOTALL)[0]\n",
        "        except:\n",
        "            material = ''\n",
        "        try:\n",
        "            technique = re.findall(r'(?<=Техника написания:).*?(?=\\n)', TEXT, re.DOTALL)[0]\n",
        "        except:\n",
        "            technique = ''\n",
        "        try:\n",
        "            genre = re.findall(r'(?<=Жанр:).*?(?=\\n)', TEXT, re.DOTALL)[0]\n",
        "        except:\n",
        "            genre = ''\n",
        "        try:\n",
        "            style = re.findall(r'(?<=Стиль:).*?(?=\\n)', TEXT, re.DOTALL)[0]\n",
        "        except:\n",
        "            style = ''\n",
        "        try:\n",
        "            galery = re.findall(r'(?<=Галерея:).*?(?=\\n)', TEXT, re.DOTALL)[0]\n",
        "        except:\n",
        "            galery = ''\n",
        "        df = df.append({'Автор':author, 'Название картины':art, 'Ссылка на картину':Link, 'Описание':description,\n",
        "                        'Год':year, 'Размер':size, 'Материал':material,\n",
        "                        'Техника':technique, 'Жанр':genre, 'Стиль':style, \n",
        "                        'Галерея':galery}, ignore_index=True)\n",
        "      except:\n",
        "          pass"
      ],
      "metadata": {
        "id": "5-wgJJMOExOv"
      },
      "execution_count": 30,
      "outputs": []
    },
    {
      "cell_type": "code",
      "source": [
        "def Preprocessing(dfseries, Extended=True):\n",
        "    dfseries = dfseries.apply(lambda x: re.sub('\\xa0', ' ', x))\n",
        "    dfseries = dfseries.apply(lambda x: x.split(','))\n",
        "    if Extended == True:\n",
        "      dfseries = dfseries.apply(lambda x: [y.strip(' .') for y in x])"
      ],
      "metadata": {
        "id": "I3NhcowzO5zT"
      },
      "execution_count": 31,
      "outputs": []
    },
    {
      "cell_type": "code",
      "source": [
        "for Column in ['Стиль', 'Жанр', 'Техника', 'Материал']:\n",
        "  Preprocessing(df[Column])\n",
        "for Column in ['Галерея', 'Размер', 'Год']:\n",
        "  Preprocessing(df[Column], Extended=False)\n",
        "df['Описание'] = df['Описание'].apply(lambda x: re.sub('\\n', ' ', x))"
      ],
      "metadata": {
        "id": "9YGx1KEbPmUU"
      },
      "execution_count": 32,
      "outputs": []
    },
    {
      "cell_type": "code",
      "source": [
        "df.to_csv('pictures.csv')"
      ],
      "metadata": {
        "id": "CdHE1a50eqG2"
      },
      "execution_count": 33,
      "outputs": []
    },
    {
      "cell_type": "code",
      "source": [
        "df = pd.read_csv('pictures.csv')"
      ],
      "metadata": {
        "id": "cSSLMTmEIOIP"
      },
      "execution_count": 34,
      "outputs": []
    },
    {
      "cell_type": "code",
      "source": [
        "df"
      ],
      "metadata": {
        "colab": {
          "base_uri": "https://localhost:8080/",
          "height": 2614
        },
        "id": "xFdi-GYegJ8U",
        "outputId": "e83119c1-6a2d-4db6-f88b-af51f43420c1"
      },
      "execution_count": 35,
      "outputs": [
        {
          "output_type": "execute_result",
          "data": {
            "text/plain": [
              "     Unnamed: 0              Автор  \\\n",
              "0             0   Айвазовский Иван   \n",
              "1             1   Айвазовский Иван   \n",
              "2             2   Айвазовский Иван   \n",
              "3             3   Айвазовский Иван   \n",
              "4             4   Айвазовский Иван   \n",
              "..          ...                ...   \n",
              "914         914  Яблонская Татьяна   \n",
              "915         915  Яблонская Татьяна   \n",
              "916         916  Яблонская Татьяна   \n",
              "917         917  Яблонская Татьяна   \n",
              "918         918  Яблонская Татьяна   \n",
              "\n",
              "                                      Название картины  \\\n",
              "0                                       Спокойное море   \n",
              "1                           Неаполитанский залив утром   \n",
              "2                        Прощание А.С. Пушкина с морем   \n",
              "3                Смотр Черноморского флота в 1849 году   \n",
              "4    Русско-турецкий морской бой при Синопе 18 нояб...   \n",
              "..                                                 ...   \n",
              "914                                               Хлеб   \n",
              "915                                               Утро   \n",
              "916                                          На старте   \n",
              "917                            Вечер. Старая Флоренция   \n",
              "918                                             Юность   \n",
              "\n",
              "                                     Ссылка на картину  \\\n",
              "0    https://opisanie-kartin.ru/ajvazovskij-ivan/sp...   \n",
              "1    https://opisanie-kartin.ru/ajvazovskij-ivan/ne...   \n",
              "2    https://opisanie-kartin.ru/ajvazovskij-ivan/pr...   \n",
              "3    https://opisanie-kartin.ru/ajvazovskij-ivan/sm...   \n",
              "4    https://opisanie-kartin.ru/ajvazovskij-ivan/ru...   \n",
              "..                                                 ...   \n",
              "914  https://opisanie-kartin.ru/yablonskaya-tatyana...   \n",
              "915  https://opisanie-kartin.ru/yablonskaya-tatyana...   \n",
              "916  https://opisanie-kartin.ru/yablonskaya-tatyana...   \n",
              "917  https://opisanie-kartin.ru/yablonskaya-tatyana...   \n",
              "918  https://opisanie-kartin.ru/yablonskaya-tatyana...   \n",
              "\n",
              "                                              Описание     Год  \\\n",
              "0      Время создания картины «Спокойное море» прих...   1863.   \n",
              "1                                                   .    1843.   \n",
              "2      «Дивное море написал Айвазовский… И я удосто...   1877.   \n",
              "3                                                        1886.   \n",
              "4                                                        1853.   \n",
              "..                                                 ...     ...   \n",
              "914    Картина «Хлеб», написанная известной советск...   1949.   \n",
              "915    Замечательная советская художница Татьяна Яб...   1954.   \n",
              "916                                                      1947.   \n",
              "917                                                      1973.   \n",
              "918   веке в качестве граффити на какой-нибудь глух...   1969.   \n",
              "\n",
              "             Размер Материал  Техника                 Жанр  \\\n",
              "0       45 x 58 см.   холст.   масло.              марина.   \n",
              "1      67 x 100 см.   холст.   масло.              марина.   \n",
              "2       нет данных.   холст.   масло.             портрет.   \n",
              "3     131 x 249 см.   холст.   масло.              марина.   \n",
              "4     331 x 220 см.   холст.   масло.            батализм.   \n",
              "..              ...      ...      ...                  ...   \n",
              "914     нет данных.   холст.   масло.   жанровая живопись.   \n",
              "915   169 x 110 см.   холст.   масло.   жанровая живопись.   \n",
              "916     нет данных.   холст.   масло.   жанровая живопись.   \n",
              "917     нет данных.   холст.   масло.   жанровая живопись.   \n",
              "918   165 х 150 см.   холст.   масло.   жанровая живопись.   \n",
              "\n",
              "                                         Стиль  \\\n",
              "0                                   романтизм.   \n",
              "1                                   романтизм.   \n",
              "2                                   романтизм.   \n",
              "3                                   романтизм.   \n",
              "4                                   романтизм.   \n",
              "..                                         ...   \n",
              "914                  социалистический реализм.   \n",
              "915                  социалистический реализм.   \n",
              "916                  социалистический реализм.   \n",
              "917   социалистический реализм, импрессионизм.   \n",
              "918                     сюрреализм, символизм.   \n",
              "\n",
              "                                               Галерея  \n",
              "0                                          нет данных.  \n",
              "1                                          нет данных.  \n",
              "2     Всероссийский музей А. С. Пушкина, Санкт-Пете...  \n",
              "3     Центральный военно-морской музей, Санкт-Петер...  \n",
              "4     Центральный военно-морской музей, Санкт-Петер...  \n",
              "..                                                 ...  \n",
              "914                                        нет данных.  \n",
              "915   Государственная Третьяковская галерея, Москва...  \n",
              "916                                        нет данных.  \n",
              "917                                        нет данных.  \n",
              "918   Национальный художественный музей Украины, Ки...  \n",
              "\n",
              "[919 rows x 12 columns]"
            ],
            "text/html": [
              "\n",
              "  <div id=\"df-f90282b3-d525-4f8c-a28e-bb0745a87c1d\">\n",
              "    <div class=\"colab-df-container\">\n",
              "      <div>\n",
              "<style scoped>\n",
              "    .dataframe tbody tr th:only-of-type {\n",
              "        vertical-align: middle;\n",
              "    }\n",
              "\n",
              "    .dataframe tbody tr th {\n",
              "        vertical-align: top;\n",
              "    }\n",
              "\n",
              "    .dataframe thead th {\n",
              "        text-align: right;\n",
              "    }\n",
              "</style>\n",
              "<table border=\"1\" class=\"dataframe\">\n",
              "  <thead>\n",
              "    <tr style=\"text-align: right;\">\n",
              "      <th></th>\n",
              "      <th>Unnamed: 0</th>\n",
              "      <th>Автор</th>\n",
              "      <th>Название картины</th>\n",
              "      <th>Ссылка на картину</th>\n",
              "      <th>Описание</th>\n",
              "      <th>Год</th>\n",
              "      <th>Размер</th>\n",
              "      <th>Материал</th>\n",
              "      <th>Техника</th>\n",
              "      <th>Жанр</th>\n",
              "      <th>Стиль</th>\n",
              "      <th>Галерея</th>\n",
              "    </tr>\n",
              "  </thead>\n",
              "  <tbody>\n",
              "    <tr>\n",
              "      <th>0</th>\n",
              "      <td>0</td>\n",
              "      <td>Айвазовский Иван</td>\n",
              "      <td>Спокойное море</td>\n",
              "      <td>https://opisanie-kartin.ru/ajvazovskij-ivan/sp...</td>\n",
              "      <td>Время создания картины «Спокойное море» прих...</td>\n",
              "      <td>1863.</td>\n",
              "      <td>45 x 58 см.</td>\n",
              "      <td>холст.</td>\n",
              "      <td>масло.</td>\n",
              "      <td>марина.</td>\n",
              "      <td>романтизм.</td>\n",
              "      <td>нет данных.</td>\n",
              "    </tr>\n",
              "    <tr>\n",
              "      <th>1</th>\n",
              "      <td>1</td>\n",
              "      <td>Айвазовский Иван</td>\n",
              "      <td>Неаполитанский залив утром</td>\n",
              "      <td>https://opisanie-kartin.ru/ajvazovskij-ivan/ne...</td>\n",
              "      <td>.</td>\n",
              "      <td>1843.</td>\n",
              "      <td>67 x 100 см.</td>\n",
              "      <td>холст.</td>\n",
              "      <td>масло.</td>\n",
              "      <td>марина.</td>\n",
              "      <td>романтизм.</td>\n",
              "      <td>нет данных.</td>\n",
              "    </tr>\n",
              "    <tr>\n",
              "      <th>2</th>\n",
              "      <td>2</td>\n",
              "      <td>Айвазовский Иван</td>\n",
              "      <td>Прощание А.С. Пушкина с морем</td>\n",
              "      <td>https://opisanie-kartin.ru/ajvazovskij-ivan/pr...</td>\n",
              "      <td>«Дивное море написал Айвазовский… И я удосто...</td>\n",
              "      <td>1877.</td>\n",
              "      <td>нет данных.</td>\n",
              "      <td>холст.</td>\n",
              "      <td>масло.</td>\n",
              "      <td>портрет.</td>\n",
              "      <td>романтизм.</td>\n",
              "      <td>Всероссийский музей А. С. Пушкина, Санкт-Пете...</td>\n",
              "    </tr>\n",
              "    <tr>\n",
              "      <th>3</th>\n",
              "      <td>3</td>\n",
              "      <td>Айвазовский Иван</td>\n",
              "      <td>Смотр Черноморского флота в 1849 году</td>\n",
              "      <td>https://opisanie-kartin.ru/ajvazovskij-ivan/sm...</td>\n",
              "      <td></td>\n",
              "      <td>1886.</td>\n",
              "      <td>131 x 249 см.</td>\n",
              "      <td>холст.</td>\n",
              "      <td>масло.</td>\n",
              "      <td>марина.</td>\n",
              "      <td>романтизм.</td>\n",
              "      <td>Центральный военно-морской музей, Санкт-Петер...</td>\n",
              "    </tr>\n",
              "    <tr>\n",
              "      <th>4</th>\n",
              "      <td>4</td>\n",
              "      <td>Айвазовский Иван</td>\n",
              "      <td>Русско-турецкий морской бой при Синопе 18 нояб...</td>\n",
              "      <td>https://opisanie-kartin.ru/ajvazovskij-ivan/ru...</td>\n",
              "      <td></td>\n",
              "      <td>1853.</td>\n",
              "      <td>331 x 220 см.</td>\n",
              "      <td>холст.</td>\n",
              "      <td>масло.</td>\n",
              "      <td>батализм.</td>\n",
              "      <td>романтизм.</td>\n",
              "      <td>Центральный военно-морской музей, Санкт-Петер...</td>\n",
              "    </tr>\n",
              "    <tr>\n",
              "      <th>...</th>\n",
              "      <td>...</td>\n",
              "      <td>...</td>\n",
              "      <td>...</td>\n",
              "      <td>...</td>\n",
              "      <td>...</td>\n",
              "      <td>...</td>\n",
              "      <td>...</td>\n",
              "      <td>...</td>\n",
              "      <td>...</td>\n",
              "      <td>...</td>\n",
              "      <td>...</td>\n",
              "      <td>...</td>\n",
              "    </tr>\n",
              "    <tr>\n",
              "      <th>914</th>\n",
              "      <td>914</td>\n",
              "      <td>Яблонская Татьяна</td>\n",
              "      <td>Хлеб</td>\n",
              "      <td>https://opisanie-kartin.ru/yablonskaya-tatyana...</td>\n",
              "      <td>Картина «Хлеб», написанная известной советск...</td>\n",
              "      <td>1949.</td>\n",
              "      <td>нет данных.</td>\n",
              "      <td>холст.</td>\n",
              "      <td>масло.</td>\n",
              "      <td>жанровая живопись.</td>\n",
              "      <td>социалистический реализм.</td>\n",
              "      <td>нет данных.</td>\n",
              "    </tr>\n",
              "    <tr>\n",
              "      <th>915</th>\n",
              "      <td>915</td>\n",
              "      <td>Яблонская Татьяна</td>\n",
              "      <td>Утро</td>\n",
              "      <td>https://opisanie-kartin.ru/yablonskaya-tatyana...</td>\n",
              "      <td>Замечательная советская художница Татьяна Яб...</td>\n",
              "      <td>1954.</td>\n",
              "      <td>169 x 110 см.</td>\n",
              "      <td>холст.</td>\n",
              "      <td>масло.</td>\n",
              "      <td>жанровая живопись.</td>\n",
              "      <td>социалистический реализм.</td>\n",
              "      <td>Государственная Третьяковская галерея, Москва...</td>\n",
              "    </tr>\n",
              "    <tr>\n",
              "      <th>916</th>\n",
              "      <td>916</td>\n",
              "      <td>Яблонская Татьяна</td>\n",
              "      <td>На старте</td>\n",
              "      <td>https://opisanie-kartin.ru/yablonskaya-tatyana...</td>\n",
              "      <td></td>\n",
              "      <td>1947.</td>\n",
              "      <td>нет данных.</td>\n",
              "      <td>холст.</td>\n",
              "      <td>масло.</td>\n",
              "      <td>жанровая живопись.</td>\n",
              "      <td>социалистический реализм.</td>\n",
              "      <td>нет данных.</td>\n",
              "    </tr>\n",
              "    <tr>\n",
              "      <th>917</th>\n",
              "      <td>917</td>\n",
              "      <td>Яблонская Татьяна</td>\n",
              "      <td>Вечер. Старая Флоренция</td>\n",
              "      <td>https://opisanie-kartin.ru/yablonskaya-tatyana...</td>\n",
              "      <td></td>\n",
              "      <td>1973.</td>\n",
              "      <td>нет данных.</td>\n",
              "      <td>холст.</td>\n",
              "      <td>масло.</td>\n",
              "      <td>жанровая живопись.</td>\n",
              "      <td>социалистический реализм, импрессионизм.</td>\n",
              "      <td>нет данных.</td>\n",
              "    </tr>\n",
              "    <tr>\n",
              "      <th>918</th>\n",
              "      <td>918</td>\n",
              "      <td>Яблонская Татьяна</td>\n",
              "      <td>Юность</td>\n",
              "      <td>https://opisanie-kartin.ru/yablonskaya-tatyana...</td>\n",
              "      <td>веке в качестве граффити на какой-нибудь глух...</td>\n",
              "      <td>1969.</td>\n",
              "      <td>165 х 150 см.</td>\n",
              "      <td>холст.</td>\n",
              "      <td>масло.</td>\n",
              "      <td>жанровая живопись.</td>\n",
              "      <td>сюрреализм, символизм.</td>\n",
              "      <td>Национальный художественный музей Украины, Ки...</td>\n",
              "    </tr>\n",
              "  </tbody>\n",
              "</table>\n",
              "<p>919 rows × 12 columns</p>\n",
              "</div>\n",
              "      <button class=\"colab-df-convert\" onclick=\"convertToInteractive('df-f90282b3-d525-4f8c-a28e-bb0745a87c1d')\"\n",
              "              title=\"Convert this dataframe to an interactive table.\"\n",
              "              style=\"display:none;\">\n",
              "        \n",
              "  <svg xmlns=\"http://www.w3.org/2000/svg\" height=\"24px\"viewBox=\"0 0 24 24\"\n",
              "       width=\"24px\">\n",
              "    <path d=\"M0 0h24v24H0V0z\" fill=\"none\"/>\n",
              "    <path d=\"M18.56 5.44l.94 2.06.94-2.06 2.06-.94-2.06-.94-.94-2.06-.94 2.06-2.06.94zm-11 1L8.5 8.5l.94-2.06 2.06-.94-2.06-.94L8.5 2.5l-.94 2.06-2.06.94zm10 10l.94 2.06.94-2.06 2.06-.94-2.06-.94-.94-2.06-.94 2.06-2.06.94z\"/><path d=\"M17.41 7.96l-1.37-1.37c-.4-.4-.92-.59-1.43-.59-.52 0-1.04.2-1.43.59L10.3 9.45l-7.72 7.72c-.78.78-.78 2.05 0 2.83L4 21.41c.39.39.9.59 1.41.59.51 0 1.02-.2 1.41-.59l7.78-7.78 2.81-2.81c.8-.78.8-2.07 0-2.86zM5.41 20L4 18.59l7.72-7.72 1.47 1.35L5.41 20z\"/>\n",
              "  </svg>\n",
              "      </button>\n",
              "      \n",
              "  <style>\n",
              "    .colab-df-container {\n",
              "      display:flex;\n",
              "      flex-wrap:wrap;\n",
              "      gap: 12px;\n",
              "    }\n",
              "\n",
              "    .colab-df-convert {\n",
              "      background-color: #E8F0FE;\n",
              "      border: none;\n",
              "      border-radius: 50%;\n",
              "      cursor: pointer;\n",
              "      display: none;\n",
              "      fill: #1967D2;\n",
              "      height: 32px;\n",
              "      padding: 0 0 0 0;\n",
              "      width: 32px;\n",
              "    }\n",
              "\n",
              "    .colab-df-convert:hover {\n",
              "      background-color: #E2EBFA;\n",
              "      box-shadow: 0px 1px 2px rgba(60, 64, 67, 0.3), 0px 1px 3px 1px rgba(60, 64, 67, 0.15);\n",
              "      fill: #174EA6;\n",
              "    }\n",
              "\n",
              "    [theme=dark] .colab-df-convert {\n",
              "      background-color: #3B4455;\n",
              "      fill: #D2E3FC;\n",
              "    }\n",
              "\n",
              "    [theme=dark] .colab-df-convert:hover {\n",
              "      background-color: #434B5C;\n",
              "      box-shadow: 0px 1px 3px 1px rgba(0, 0, 0, 0.15);\n",
              "      filter: drop-shadow(0px 1px 2px rgba(0, 0, 0, 0.3));\n",
              "      fill: #FFFFFF;\n",
              "    }\n",
              "  </style>\n",
              "\n",
              "      <script>\n",
              "        const buttonEl =\n",
              "          document.querySelector('#df-f90282b3-d525-4f8c-a28e-bb0745a87c1d button.colab-df-convert');\n",
              "        buttonEl.style.display =\n",
              "          google.colab.kernel.accessAllowed ? 'block' : 'none';\n",
              "\n",
              "        async function convertToInteractive(key) {\n",
              "          const element = document.querySelector('#df-f90282b3-d525-4f8c-a28e-bb0745a87c1d');\n",
              "          const dataTable =\n",
              "            await google.colab.kernel.invokeFunction('convertToInteractive',\n",
              "                                                     [key], {});\n",
              "          if (!dataTable) return;\n",
              "\n",
              "          const docLinkHtml = 'Like what you see? Visit the ' +\n",
              "            '<a target=\"_blank\" href=https://colab.research.google.com/notebooks/data_table.ipynb>data table notebook</a>'\n",
              "            + ' to learn more about interactive tables.';\n",
              "          element.innerHTML = '';\n",
              "          dataTable['output_type'] = 'display_data';\n",
              "          await google.colab.output.renderOutput(dataTable, element);\n",
              "          const docLink = document.createElement('div');\n",
              "          docLink.innerHTML = docLinkHtml;\n",
              "          element.appendChild(docLink);\n",
              "        }\n",
              "      </script>\n",
              "    </div>\n",
              "  </div>\n",
              "  "
            ]
          },
          "metadata": {},
          "execution_count": 35
        }
      ]
    }
  ]
}